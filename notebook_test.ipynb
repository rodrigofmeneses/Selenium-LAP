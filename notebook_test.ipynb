{
 "cells": [
  {
   "cell_type": "code",
   "execution_count": 1,
   "id": "468cddd0",
   "metadata": {},
   "outputs": [],
   "source": [
    "from selenium.webdriver import Firefox\n",
    "from selenium.webdriver.common.by import By\n",
    "import sys, importlib\n",
    "import xlwings as xw\n",
    "import pandas as pd"
   ]
  },
  {
   "cell_type": "code",
   "execution_count": 23,
   "id": "3959d436",
   "metadata": {},
   "outputs": [],
   "source": [
    "# importlib.reload(sys.modules['pages.elements'])\n",
    "# importlib.reload(sys.modules['pages.pages'])\n",
    "importlib.reload(sys.modules['scripts.preencher'])\n",
    "from scripts.inicializar import Inicializar\n",
    "from scripts.preencher import Preencher\n",
    "# from pages.pages import PageFatura\n",
    "# from pages.elements import *"
   ]
  },
  {
   "cell_type": "code",
   "execution_count": 26,
   "id": "a55dec0b",
   "metadata": {},
   "outputs": [],
   "source": [
    "browser = Firefox()\n",
    "\n",
    "pagina = Inicializar(\n",
    "    browser,\n",
    "    'https://guardiaov4.seplag.ce.gov.br/auth',\n",
    "    'credenciais.txt'\n",
    ").run()"
   ]
  },
  {
   "cell_type": "code",
   "execution_count": 24,
   "id": "afa535f2",
   "metadata": {},
   "outputs": [],
   "source": [
    "# pagina = PageFatura(browser)\n",
    "p = Preencher(browser, 'data/SPS-10-2021.xls', intervalo=(11, 23))"
   ]
  },
  {
   "cell_type": "code",
   "execution_count": 31,
   "id": "f2a3c008",
   "metadata": {},
   "outputs": [],
   "source": [
    "# p.dados.iloc[0]\n",
    "pagina.terceirizados.carregar_funcionarios(p.dados)"
   ]
  },
  {
   "cell_type": "code",
   "execution_count": 34,
   "id": "73fd682a",
   "metadata": {},
   "outputs": [
    {
     "ename": "WebDriverException",
     "evalue": "Message: Failed to write request to stream\n",
     "output_type": "error",
     "traceback": [
      "\u001b[1;31m---------------------------------------------------------------------------\u001b[0m",
      "\u001b[1;31mWebDriverException\u001b[0m                        Traceback (most recent call last)",
      "\u001b[1;32m<ipython-input-34-1c1e73befbaa>\u001b[0m in \u001b[0;36m<module>\u001b[1;34m\u001b[0m\n\u001b[1;32m----> 1\u001b[1;33m \u001b[0mp\u001b[0m\u001b[1;33m.\u001b[0m\u001b[0mrun\u001b[0m\u001b[1;33m(\u001b[0m\u001b[1;33m)\u001b[0m\u001b[1;33m\u001b[0m\u001b[1;33m\u001b[0m\u001b[0m\n\u001b[0m",
      "\u001b[1;32md:\\reps\\Selenium-LAP\\scripts\\preencher.py\u001b[0m in \u001b[0;36mrun\u001b[1;34m(self)\u001b[0m\n\u001b[0;32m     20\u001b[0m \u001b[1;33m\u001b[0m\u001b[0m\n\u001b[0;32m     21\u001b[0m     \u001b[1;32mdef\u001b[0m \u001b[0mrun\u001b[0m\u001b[1;33m(\u001b[0m\u001b[0mself\u001b[0m\u001b[1;33m)\u001b[0m\u001b[1;33m:\u001b[0m\u001b[1;33m\u001b[0m\u001b[1;33m\u001b[0m\u001b[0m\n\u001b[1;32m---> 22\u001b[1;33m         \u001b[0mfuncionarios\u001b[0m \u001b[1;33m=\u001b[0m \u001b[0mself\u001b[0m\u001b[1;33m.\u001b[0m\u001b[0m_obter_funcionarios\u001b[0m\u001b[1;33m(\u001b[0m\u001b[1;33m)\u001b[0m\u001b[1;33m\u001b[0m\u001b[1;33m\u001b[0m\u001b[0m\n\u001b[0m\u001b[0;32m     23\u001b[0m         \u001b[1;32mfor\u001b[0m \u001b[0mfunc\u001b[0m \u001b[1;32min\u001b[0m \u001b[0mfuncionarios\u001b[0m\u001b[1;33m:\u001b[0m\u001b[1;33m\u001b[0m\u001b[1;33m\u001b[0m\u001b[0m\n\u001b[0;32m     24\u001b[0m             \u001b[1;32mif\u001b[0m \u001b[0mfunc\u001b[0m\u001b[1;33m.\u001b[0m\u001b[0mis_total_compativel\u001b[0m\u001b[1;33m(\u001b[0m\u001b[0mfunc\u001b[0m\u001b[1;33m)\u001b[0m\u001b[1;33m:\u001b[0m\u001b[1;33m\u001b[0m\u001b[1;33m\u001b[0m\u001b[0m\n",
      "\u001b[1;32md:\\reps\\Selenium-LAP\\scripts\\preencher.py\u001b[0m in \u001b[0;36m_obter_funcionarios\u001b[1;34m(self)\u001b[0m\n\u001b[0;32m     32\u001b[0m     \u001b[1;32mdef\u001b[0m \u001b[0m_obter_funcionarios\u001b[0m\u001b[1;33m(\u001b[0m\u001b[0mself\u001b[0m\u001b[1;33m)\u001b[0m\u001b[1;33m:\u001b[0m\u001b[1;33m\u001b[0m\u001b[1;33m\u001b[0m\u001b[0m\n\u001b[0;32m     33\u001b[0m         \u001b[0mpagina\u001b[0m \u001b[1;33m=\u001b[0m \u001b[0mPageFatura\u001b[0m\u001b[1;33m(\u001b[0m\u001b[0mself\u001b[0m\u001b[1;33m.\u001b[0m\u001b[0mwebdriver\u001b[0m\u001b[1;33m)\u001b[0m\u001b[1;33m\u001b[0m\u001b[1;33m\u001b[0m\u001b[0m\n\u001b[1;32m---> 34\u001b[1;33m         \u001b[0mpagina\u001b[0m\u001b[1;33m.\u001b[0m\u001b[0mterceirizados\u001b[0m\u001b[1;33m.\u001b[0m\u001b[0mcarregar_funcionarios\u001b[0m\u001b[1;33m(\u001b[0m\u001b[0mself\u001b[0m\u001b[1;33m.\u001b[0m\u001b[0mdados\u001b[0m\u001b[1;33m)\u001b[0m\u001b[1;33m\u001b[0m\u001b[1;33m\u001b[0m\u001b[0m\n\u001b[0m\u001b[0;32m     35\u001b[0m         \u001b[1;32mreturn\u001b[0m \u001b[0mpagina\u001b[0m\u001b[1;33m.\u001b[0m\u001b[0mterceirizados\u001b[0m\u001b[1;33m.\u001b[0m\u001b[0mfuncionarios\u001b[0m\u001b[1;33m\u001b[0m\u001b[1;33m\u001b[0m\u001b[0m\n\u001b[0;32m     36\u001b[0m \u001b[1;33m\u001b[0m\u001b[0m\n",
      "\u001b[1;32md:\\reps\\Selenium-LAP\\pages\\elements.py\u001b[0m in \u001b[0;36mcarregar_funcionarios\u001b[1;34m(self, dados)\u001b[0m\n\u001b[0;32m     93\u001b[0m \u001b[1;33m\u001b[0m\u001b[0m\n\u001b[0;32m     94\u001b[0m     \u001b[1;32mdef\u001b[0m \u001b[0mcarregar_funcionarios\u001b[0m\u001b[1;33m(\u001b[0m\u001b[0mself\u001b[0m\u001b[1;33m,\u001b[0m \u001b[0mdados\u001b[0m\u001b[1;33m)\u001b[0m\u001b[1;33m:\u001b[0m\u001b[1;33m\u001b[0m\u001b[1;33m\u001b[0m\u001b[0m\n\u001b[1;32m---> 95\u001b[1;33m         \u001b[0mself\u001b[0m\u001b[1;33m.\u001b[0m\u001b[0mfuncionarios\u001b[0m \u001b[1;33m=\u001b[0m \u001b[0mself\u001b[0m\u001b[1;33m.\u001b[0m\u001b[0m_listar_funcionarios_cadastrados\u001b[0m\u001b[1;33m(\u001b[0m\u001b[1;33m)\u001b[0m\u001b[1;33m\u001b[0m\u001b[1;33m\u001b[0m\u001b[0m\n\u001b[0m\u001b[0;32m     96\u001b[0m         \u001b[0mself\u001b[0m\u001b[1;33m.\u001b[0m\u001b[0m_set_dados\u001b[0m\u001b[1;33m(\u001b[0m\u001b[0mdados\u001b[0m\u001b[1;33m)\u001b[0m\u001b[1;33m\u001b[0m\u001b[1;33m\u001b[0m\u001b[0m\n\u001b[0;32m     97\u001b[0m         \u001b[0mself\u001b[0m\u001b[1;33m.\u001b[0m\u001b[0m_atribuir_dados_funcionarios\u001b[0m\u001b[1;33m(\u001b[0m\u001b[1;33m)\u001b[0m\u001b[1;33m\u001b[0m\u001b[1;33m\u001b[0m\u001b[0m\n",
      "\u001b[1;32md:\\reps\\Selenium-LAP\\pages\\elements.py\u001b[0m in \u001b[0;36m_listar_funcionarios_cadastrados\u001b[1;34m(self)\u001b[0m\n\u001b[0;32m     98\u001b[0m \u001b[1;33m\u001b[0m\u001b[0m\n\u001b[0;32m     99\u001b[0m     \u001b[1;32mdef\u001b[0m \u001b[0m_listar_funcionarios_cadastrados\u001b[0m\u001b[1;33m(\u001b[0m\u001b[0mself\u001b[0m\u001b[1;33m)\u001b[0m\u001b[1;33m:\u001b[0m\u001b[1;33m\u001b[0m\u001b[1;33m\u001b[0m\u001b[0m\n\u001b[1;32m--> 100\u001b[1;33m         \u001b[0mnum_funcs\u001b[0m \u001b[1;33m=\u001b[0m \u001b[0mlen\u001b[0m\u001b[1;33m(\u001b[0m\u001b[0mself\u001b[0m\u001b[1;33m.\u001b[0m\u001b[0mfind_elements\u001b[0m\u001b[1;33m(\u001b[0m\u001b[0mself\u001b[0m\u001b[1;33m.\u001b[0m\u001b[0m_loc_tabela_terceirizados\u001b[0m\u001b[1;33m)\u001b[0m\u001b[1;33m)\u001b[0m\u001b[1;33m\u001b[0m\u001b[1;33m\u001b[0m\u001b[0m\n\u001b[0m\u001b[0;32m    101\u001b[0m         \u001b[0mpo_funcs\u001b[0m \u001b[1;33m=\u001b[0m \u001b[1;33m[\u001b[0m\u001b[1;33m]\u001b[0m\u001b[1;33m\u001b[0m\u001b[1;33m\u001b[0m\u001b[0m\n\u001b[0;32m    102\u001b[0m         \u001b[0m_loc_funcionario\u001b[0m \u001b[1;33m=\u001b[0m \u001b[1;34m'tbody > tr:nth-child({})'\u001b[0m\u001b[1;33m\u001b[0m\u001b[1;33m\u001b[0m\u001b[0m\n",
      "\u001b[1;32md:\\reps\\Selenium-LAP\\page_objects\\page_objects.py\u001b[0m in \u001b[0;36mfind_elements\u001b[1;34m(self, locator)\u001b[0m\n\u001b[0;32m      7\u001b[0m \u001b[1;33m\u001b[0m\u001b[0m\n\u001b[0;32m      8\u001b[0m     \u001b[1;32mdef\u001b[0m \u001b[0mfind_elements\u001b[0m\u001b[1;33m(\u001b[0m\u001b[0mself\u001b[0m\u001b[1;33m,\u001b[0m \u001b[0mlocator\u001b[0m\u001b[1;33m)\u001b[0m\u001b[1;33m:\u001b[0m\u001b[1;33m\u001b[0m\u001b[1;33m\u001b[0m\u001b[0m\n\u001b[1;32m----> 9\u001b[1;33m         \u001b[1;32mreturn\u001b[0m \u001b[0mself\u001b[0m\u001b[1;33m.\u001b[0m\u001b[0mwebdriver\u001b[0m\u001b[1;33m.\u001b[0m\u001b[0mfind_elements\u001b[0m\u001b[1;33m(\u001b[0m\u001b[1;33m*\u001b[0m\u001b[0mlocator\u001b[0m\u001b[1;33m)\u001b[0m\u001b[1;33m\u001b[0m\u001b[1;33m\u001b[0m\u001b[0m\n\u001b[0m\u001b[0;32m     10\u001b[0m \u001b[1;33m\u001b[0m\u001b[0m\n\u001b[0;32m     11\u001b[0m     \u001b[1;32mdef\u001b[0m \u001b[0m_clicar\u001b[0m\u001b[1;33m(\u001b[0m\u001b[0mself\u001b[0m\u001b[1;33m,\u001b[0m \u001b[0mlocator\u001b[0m\u001b[1;33m)\u001b[0m\u001b[1;33m:\u001b[0m\u001b[1;33m\u001b[0m\u001b[1;33m\u001b[0m\u001b[0m\n",
      "\u001b[1;32m~\\AppData\\Local\\Programs\\Python\\Python38\\lib\\site-packages\\selenium\\webdriver\\remote\\webdriver.py\u001b[0m in \u001b[0;36mfind_elements\u001b[1;34m(self, by, value)\u001b[0m\n\u001b[0;32m   1003\u001b[0m         \u001b[1;31m# Return empty list if driver returns null\u001b[0m\u001b[1;33m\u001b[0m\u001b[1;33m\u001b[0m\u001b[1;33m\u001b[0m\u001b[0m\n\u001b[0;32m   1004\u001b[0m         \u001b[1;31m# See https://github.com/SeleniumHQ/selenium/issues/4555\u001b[0m\u001b[1;33m\u001b[0m\u001b[1;33m\u001b[0m\u001b[1;33m\u001b[0m\u001b[0m\n\u001b[1;32m-> 1005\u001b[1;33m         return self.execute(Command.FIND_ELEMENTS, {\n\u001b[0m\u001b[0;32m   1006\u001b[0m             \u001b[1;34m'using'\u001b[0m\u001b[1;33m:\u001b[0m \u001b[0mby\u001b[0m\u001b[1;33m,\u001b[0m\u001b[1;33m\u001b[0m\u001b[1;33m\u001b[0m\u001b[0m\n\u001b[0;32m   1007\u001b[0m             'value': value})['value'] or []\n",
      "\u001b[1;32m~\\AppData\\Local\\Programs\\Python\\Python38\\lib\\site-packages\\selenium\\webdriver\\remote\\webdriver.py\u001b[0m in \u001b[0;36mexecute\u001b[1;34m(self, driver_command, params)\u001b[0m\n\u001b[0;32m    319\u001b[0m         \u001b[0mresponse\u001b[0m \u001b[1;33m=\u001b[0m \u001b[0mself\u001b[0m\u001b[1;33m.\u001b[0m\u001b[0mcommand_executor\u001b[0m\u001b[1;33m.\u001b[0m\u001b[0mexecute\u001b[0m\u001b[1;33m(\u001b[0m\u001b[0mdriver_command\u001b[0m\u001b[1;33m,\u001b[0m \u001b[0mparams\u001b[0m\u001b[1;33m)\u001b[0m\u001b[1;33m\u001b[0m\u001b[1;33m\u001b[0m\u001b[0m\n\u001b[0;32m    320\u001b[0m         \u001b[1;32mif\u001b[0m \u001b[0mresponse\u001b[0m\u001b[1;33m:\u001b[0m\u001b[1;33m\u001b[0m\u001b[1;33m\u001b[0m\u001b[0m\n\u001b[1;32m--> 321\u001b[1;33m             \u001b[0mself\u001b[0m\u001b[1;33m.\u001b[0m\u001b[0merror_handler\u001b[0m\u001b[1;33m.\u001b[0m\u001b[0mcheck_response\u001b[0m\u001b[1;33m(\u001b[0m\u001b[0mresponse\u001b[0m\u001b[1;33m)\u001b[0m\u001b[1;33m\u001b[0m\u001b[1;33m\u001b[0m\u001b[0m\n\u001b[0m\u001b[0;32m    322\u001b[0m             response['value'] = self._unwrap_value(\n\u001b[0;32m    323\u001b[0m                 response.get('value', None))\n",
      "\u001b[1;32m~\\AppData\\Local\\Programs\\Python\\Python38\\lib\\site-packages\\selenium\\webdriver\\remote\\errorhandler.py\u001b[0m in \u001b[0;36mcheck_response\u001b[1;34m(self, response)\u001b[0m\n\u001b[0;32m    240\u001b[0m                 \u001b[0malert_text\u001b[0m \u001b[1;33m=\u001b[0m \u001b[0mvalue\u001b[0m\u001b[1;33m[\u001b[0m\u001b[1;34m'alert'\u001b[0m\u001b[1;33m]\u001b[0m\u001b[1;33m.\u001b[0m\u001b[0mget\u001b[0m\u001b[1;33m(\u001b[0m\u001b[1;34m'text'\u001b[0m\u001b[1;33m)\u001b[0m\u001b[1;33m\u001b[0m\u001b[1;33m\u001b[0m\u001b[0m\n\u001b[0;32m    241\u001b[0m             \u001b[1;32mraise\u001b[0m \u001b[0mexception_class\u001b[0m\u001b[1;33m(\u001b[0m\u001b[0mmessage\u001b[0m\u001b[1;33m,\u001b[0m \u001b[0mscreen\u001b[0m\u001b[1;33m,\u001b[0m \u001b[0mstacktrace\u001b[0m\u001b[1;33m,\u001b[0m \u001b[0malert_text\u001b[0m\u001b[1;33m)\u001b[0m\u001b[1;33m\u001b[0m\u001b[1;33m\u001b[0m\u001b[0m\n\u001b[1;32m--> 242\u001b[1;33m         \u001b[1;32mraise\u001b[0m \u001b[0mexception_class\u001b[0m\u001b[1;33m(\u001b[0m\u001b[0mmessage\u001b[0m\u001b[1;33m,\u001b[0m \u001b[0mscreen\u001b[0m\u001b[1;33m,\u001b[0m \u001b[0mstacktrace\u001b[0m\u001b[1;33m)\u001b[0m\u001b[1;33m\u001b[0m\u001b[1;33m\u001b[0m\u001b[0m\n\u001b[0m\u001b[0;32m    243\u001b[0m \u001b[1;33m\u001b[0m\u001b[0m\n\u001b[0;32m    244\u001b[0m     \u001b[1;32mdef\u001b[0m \u001b[0m_value_or_default\u001b[0m\u001b[1;33m(\u001b[0m\u001b[0mself\u001b[0m\u001b[1;33m,\u001b[0m \u001b[0mobj\u001b[0m\u001b[1;33m,\u001b[0m \u001b[0mkey\u001b[0m\u001b[1;33m,\u001b[0m \u001b[0mdefault\u001b[0m\u001b[1;33m)\u001b[0m\u001b[1;33m:\u001b[0m\u001b[1;33m\u001b[0m\u001b[1;33m\u001b[0m\u001b[0m\n",
      "\u001b[1;31mWebDriverException\u001b[0m: Message: Failed to write request to stream\n"
     ]
    }
   ],
   "source": [
    "p.run()"
   ]
  },
  {
   "cell_type": "code",
   "execution_count": 7,
   "id": "c6a27560",
   "metadata": {},
   "outputs": [],
   "source": [
    "pagina.terceirizados.carregar_funcionarios(p.dados)"
   ]
  },
  {
   "cell_type": "code",
   "execution_count": null,
   "id": "55562991",
   "metadata": {},
   "outputs": [],
   "source": [
    "p._obter_funcionarios()"
   ]
  },
  {
   "cell_type": "code",
   "execution_count": 5,
   "id": "231434ed",
   "metadata": {},
   "outputs": [],
   "source": [
    "wb = xw.Book('data\\misto-06-2021.xlsx')\n",
    "sheet = wb.sheets['Plan SPG']"
   ]
  },
  {
   "cell_type": "code",
   "execution_count": null,
   "id": "999b0a49",
   "metadata": {},
   "outputs": [],
   "source": [
    "colunas = ['Nome', 'Dias Trabalhados', 'Salario Base', \n",
    "    'Salario Total', 'Adicional', 'Adicional Nortuno', 'Reserva', \n",
    "    'Encargos', 'Insalibridade', 'Periculosidade', 'Outros', \n",
    "    'Vale Transporte', 'Vale Refeicao', 'Taxa', 'Cesta', 'Farda', \n",
    "    'Municao', 'Seguro Vida', 'Supervisao', 'IJD', 'IJN', 'Tributos', \n",
    "    'Insumos', 'Equipamento', 'Plano Saude', 'Hora Extra', \n",
    "    'DSR', 'Extra Encargos',  'Extra Taxa',  'Extra',  'Viagem Tributos', \n",
    "    'Diarias',  'Passagem',  'Viagem', 'Viagem Taxa',  'Viagem Tributos'\n",
    "]\n",
    "\n",
    "df = pd.DataFrame(columns=colunas)\n",
    "\n",
    "for i in range(11, 53):\n",
    "    # 11:52\n",
    "    valores_func = []\n",
    "    valores_func += [sheet[f'A{i}'].value]\n",
    "    valores_func += [sheet[f'C{i}'].value]\n",
    "    valores_func += [sheet[f'E{i}'].value]\n",
    "    valores_func += [sheet[f'R{i}'].value]\n",
    "    valores_func += [sheet[f'G{i}'].value]\n",
    "    valores_func += [0.] * 2\n",
    "    valores_func += [sheet[f'H{i}'].value]\n",
    "    valores_func += [0.]\n",
    "    valores_func += [sheet[f'F{i}'].value]\n",
    "    valores_func += [0.]\n",
    "    valores_func += sheet[f'K{i}:L{i}'].value\n",
    "    valores_func += [sheet[f'J{i}'].value]\n",
    "    valores_func += sheet[f'M{i}:N{i}'].value\n",
    "    valores_func += [0.] * 5\n",
    "    valores_func += [sheet[f'P{i}'].value]\n",
    "    valores_func += [0.] * 2\n",
    "    valores_func += [sheet[f'O{i}'].value]\n",
    "    valores_func += [0.] * 11\n",
    "    s = pd.Series(valores_func, index=colunas)\n",
    "    df = df.append(s, ignore_index=True)\n",
    "# valores_func\n",
    "df = df.fillna(0.)\n",
    "\n",
    "for i in range(df.shape[0]):\n",
    "    if df.iloc[i]['Salario Total'] == 0.:\n",
    "        for c in df.columns[2:]:\n",
    "            df.at[i, c] = 0.\n",
    "\n",
    "# df.iloc[36]\n",
    "df.head()"
   ]
  },
  {
   "cell_type": "code",
   "execution_count": null,
   "id": "31477344",
   "metadata": {},
   "outputs": [],
   "source": [
    "wb = xw.Book('data/SDC-11-2021-01.xls')\n",
    "sheet = wb.sheets['Plan SPG']"
   ]
  },
  {
   "cell_type": "code",
   "execution_count": null,
   "id": "908b704e",
   "metadata": {},
   "outputs": [],
   "source": [
    "campos = ['CPF', 'Nome', 'Dias Trabalhados', 'Salario Base', \n",
    "        'Salario Total', 'Adicional', 'Adicional Nortuno', 'Reserva', \n",
    "        'Encargos', 'Insalibridade', 'Periculosidade', 'Outros', \n",
    "        'Vale Transporte', 'Vale Refeicao', 'Taxa', 'Cesta', 'Farda', \n",
    "        'Municao', 'Seguro Vida', 'Supervisao', 'IJD', 'IJN', 'Tributos', \n",
    "        'Insumos', 'Equipamento', 'Plano Saude', 'Qtd Hora Extra', \n",
    "        'Valor Hora Extra', 'DSR', 'Hora Encargos',  'Hora Taxa', 'Hora Tributos', \n",
    "        'Qtd Diarias',  'Passagem',  'Viagem', 'Viagem Taxa',  'Viagem Tributos'\n",
    "    ]\n",
    "\n",
    "df = pd.DataFrame(columns=campos)\n",
    "\n",
    "for i in range(10, 15):\n",
    "    valores_func = []\n",
    "    valores_func += [sheet[f'R{i}'].value] # CPF\n",
    "    valores_func += [sheet[f'A{i}'].value] # Nome\n",
    "    valores_func += [sheet[f'C{i}'].value] # Dias\n",
    "    valores_func += [sheet[f'E{i}'].value] # Salario Base\n",
    "    valores_func += [sheet[f'N{i}'].value] # Salario Total\n",
    "    valores_func += [0.] * 3\n",
    "    valores_func += [sheet[f'F{i}'].value] # Encargos\n",
    "    valores_func += [0.] * 4\n",
    "    valores_func += [sheet[f'I{i}'].value] # Vale Alimentacao\n",
    "    valores_func += [sheet[f'H{i}'].value] # Taxa\n",
    "    valores_func += [sheet[f'J{i}'].value] # Cesta\n",
    "    valores_func += [0.] * 6\n",
    "    valores_func += [sheet[f'L{i}'].value] # Tributos\n",
    "    valores_func += [0.] * 2\n",
    "    valores_func += [sheet[f'K{i}'].value]\n",
    "    valores_func += [0.] * 11\n",
    "    s = pd.Series(valores_func, index=campos)\n",
    "    df = df.append(s, ignore_index=True)\n",
    "# valores_func\n",
    "df = df.fillna(0.)\n",
    "\n",
    "for i in range(df.shape[0]):\n",
    "    if df.iloc[i]['Salario Total'] == 0.:\n",
    "        for c in df.columns[2:]:\n",
    "            df.at[i, c] = 0.\n",
    "\n",
    "df = df.set_index('CPF')\n",
    "df.head()"
   ]
  },
  {
   "cell_type": "code",
   "execution_count": null,
   "id": "771b75a1",
   "metadata": {},
   "outputs": [],
   "source": []
  }
 ],
 "metadata": {
  "kernelspec": {
   "display_name": "Python 3",
   "language": "python",
   "name": "python3"
  },
  "language_info": {
   "codemirror_mode": {
    "name": "ipython",
    "version": 3
   },
   "file_extension": ".py",
   "mimetype": "text/x-python",
   "name": "python",
   "nbconvert_exporter": "python",
   "pygments_lexer": "ipython3",
   "version": "3.8.10"
  }
 },
 "nbformat": 4,
 "nbformat_minor": 5
}
