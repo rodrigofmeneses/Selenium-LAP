{
 "cells": [
  {
   "cell_type": "code",
   "execution_count": null,
   "id": "468cddd0",
   "metadata": {},
   "outputs": [],
   "source": [
    "from selenium.webdriver import Firefox\n",
    "from selenium.webdriver.common.by import By\n",
    "import sys, importlib"
   ]
  },
  {
   "cell_type": "code",
   "execution_count": null,
   "id": "3959d436",
   "metadata": {},
   "outputs": [],
   "source": [
    "# importlib.reload(sys.modules['pages.page_elements.fatura'])\n",
    "# importlib.reload(sys.modules['scripts.preencher_fatura'])\n",
    "\n",
    "from scripts.inicializar import Inicializar\n",
    "from scripts.preencher_fatura import PreencherFatura\n",
    "from pages.pages import PageFatura\n",
    "# from time import sleep\n"
   ]
  },
  {
   "cell_type": "code",
   "execution_count": null,
   "id": "a55dec0b",
   "metadata": {},
   "outputs": [],
   "source": [
    "browser = Firefox()\n",
    "\n",
    "pagina = Inicializar(\n",
    "    browser,\n",
    "    'https://guardiaov4.seplag.ce.gov.br/auth',\n",
    "    'credenciais.txt'\n",
    ").run()"
   ]
  },
  {
   "cell_type": "code",
   "execution_count": null,
   "id": "afa535f2",
   "metadata": {},
   "outputs": [],
   "source": [
    "# pagina = PageFatura(browser)\n",
    "p = PreencherFatura(\n",
    "    browser, \n",
    "    'data/SSPDS 009 (06-2022).xlsx', \n",
    "    intervalo_funcionarios=(15, 103), \n",
    "    nome_planilha='SPG' \n",
    ")"
   ]
  },
  {
   "cell_type": "code",
   "execution_count": null,
   "id": "a3c42ad3",
   "metadata": {},
   "outputs": [],
   "source": [
    "p.run(inicio=0)"
   ]
  }
 ],
 "metadata": {
  "interpreter": {
   "hash": "ed7070ae62f46da50adae80a50ee05285a26a0e8c9a74f4e555a857a3bb8431f"
  },
  "kernelspec": {
   "display_name": "Python 3.10.5 ('.venv': poetry)",
   "language": "python",
   "name": "python3"
  },
  "language_info": {
   "codemirror_mode": {
    "name": "ipython",
    "version": 3
   },
   "file_extension": ".py",
   "mimetype": "text/x-python",
   "name": "python",
   "nbconvert_exporter": "python",
   "pygments_lexer": "ipython3",
   "version": "3.10.5"
  }
 },
 "nbformat": 4,
 "nbformat_minor": 5
}
