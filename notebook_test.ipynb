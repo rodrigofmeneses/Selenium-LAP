{
 "cells": [
  {
   "cell_type": "code",
   "execution_count": 11,
   "id": "468cddd0",
   "metadata": {},
   "outputs": [],
   "source": [
    "from selenium.webdriver import Firefox\n",
    "import sys, importlib"
   ]
  },
  {
   "cell_type": "code",
   "execution_count": 12,
   "id": "3959d436",
   "metadata": {},
   "outputs": [],
   "source": [
    "# importlib.reload(sys.modules['pages.page_elements.repactuacao'])\n",
    "# importlib.reload(sys.modules['scripts.preencher_repactuacao'])\n",
    "# from pages.page_elements.type import *\n",
    "# importlib.reload(sys.modules['pages.page_elements.type'])\n",
    "\n",
    "# importlib.reload(sys.modules['scripts.preencher_fatura'])\n",
    "\n",
    "from scripts.inicializar import Inicializar\n",
    "# from scripts.preencher_repactuacao import PreencherRepactuacao\n",
    "from scripts.preencher_fatura import PreencherFatura\n"
   ]
  },
  {
   "cell_type": "code",
   "execution_count": 13,
   "id": "a55dec0b",
   "metadata": {},
   "outputs": [
    {
     "ename": "NoSuchElementException",
     "evalue": "Message: Unable to locate element: li.menu-topo:nth-child(5) > a:nth-child(1); For documentation on this error, please visit: https://www.selenium.dev/documentation/webdriver/troubleshooting/errors#no-such-element-exception\nStacktrace:\nRemoteError@chrome://remote/content/shared/RemoteError.sys.mjs:8:8\nWebDriverError@chrome://remote/content/shared/webdriver/Errors.sys.mjs:189:5\nNoSuchElementError@chrome://remote/content/shared/webdriver/Errors.sys.mjs:507:5\ndom.find/</<@chrome://remote/content/shared/DOM.sys.mjs:132:16\n",
     "output_type": "error",
     "traceback": [
      "\u001b[0;31m---------------------------------------------------------------------------\u001b[0m",
      "\u001b[0;31mTimeoutException\u001b[0m                          Traceback (most recent call last)",
      "File \u001b[0;32m/mnt/c/Users/rodri/workspace/lap/Selenium-LAP/pages/page_elements/spg.py:13\u001b[0m, in \u001b[0;36mMenuSuperior.clicar_sister\u001b[0;34m(self)\u001b[0m\n\u001b[1;32m     12\u001b[0m \u001b[39mtry\u001b[39;00m:\n\u001b[0;32m---> 13\u001b[0m     WebDriverWait(\u001b[39mself\u001b[39;49m\u001b[39m.\u001b[39;49mwebdriver, \u001b[39m10\u001b[39;49m)\u001b[39m.\u001b[39;49muntil(\n\u001b[1;32m     14\u001b[0m         expected_conditions\u001b[39m.\u001b[39;49mpresence_of_element_located(\n\u001b[1;32m     15\u001b[0m             \u001b[39mself\u001b[39;49m\u001b[39m.\u001b[39;49msister_button\n\u001b[1;32m     16\u001b[0m         )\n\u001b[1;32m     17\u001b[0m     )\n\u001b[1;32m     18\u001b[0m \u001b[39mfinally\u001b[39;00m:\n",
      "File \u001b[0;32m/mnt/c/Users/rodri/workspace/lap/Selenium-LAP/venv/lib/python3.11/site-packages/selenium/webdriver/support/wait.py:101\u001b[0m, in \u001b[0;36mWebDriverWait.until\u001b[0;34m(self, method, message)\u001b[0m\n\u001b[1;32m    100\u001b[0m         \u001b[39mbreak\u001b[39;00m\n\u001b[0;32m--> 101\u001b[0m \u001b[39mraise\u001b[39;00m TimeoutException(message, screen, stacktrace)\n",
      "\u001b[0;31mTimeoutException\u001b[0m: Message: \nStacktrace:\nRemoteError@chrome://remote/content/shared/RemoteError.sys.mjs:8:8\nWebDriverError@chrome://remote/content/shared/webdriver/Errors.sys.mjs:189:5\nNoSuchElementError@chrome://remote/content/shared/webdriver/Errors.sys.mjs:507:5\ndom.find/</<@chrome://remote/content/shared/DOM.sys.mjs:132:16\n",
      "\nDuring handling of the above exception, another exception occurred:\n",
      "\u001b[0;31mNoSuchElementException\u001b[0m                    Traceback (most recent call last)",
      "\u001b[1;32m/mnt/c/Users/rodri/workspace/lap/Selenium-LAP/notebook_test.ipynb Cell 3\u001b[0m line \u001b[0;36m7\n\u001b[1;32m      <a href='vscode-notebook-cell://wsl%2Bubuntu-20.04/mnt/c/Users/rodri/workspace/lap/Selenium-LAP/notebook_test.ipynb#W2sdnNjb2RlLXJlbW90ZQ%3D%3D?line=0'>1</a>\u001b[0m browser \u001b[39m=\u001b[39m Firefox()\n\u001b[1;32m      <a href='vscode-notebook-cell://wsl%2Bubuntu-20.04/mnt/c/Users/rodri/workspace/lap/Selenium-LAP/notebook_test.ipynb#W2sdnNjb2RlLXJlbW90ZQ%3D%3D?line=2'>3</a>\u001b[0m pagina \u001b[39m=\u001b[39m Inicializar(\n\u001b[1;32m      <a href='vscode-notebook-cell://wsl%2Bubuntu-20.04/mnt/c/Users/rodri/workspace/lap/Selenium-LAP/notebook_test.ipynb#W2sdnNjb2RlLXJlbW90ZQ%3D%3D?line=3'>4</a>\u001b[0m     browser,\n\u001b[1;32m      <a href='vscode-notebook-cell://wsl%2Bubuntu-20.04/mnt/c/Users/rodri/workspace/lap/Selenium-LAP/notebook_test.ipynb#W2sdnNjb2RlLXJlbW90ZQ%3D%3D?line=4'>5</a>\u001b[0m     \u001b[39m'\u001b[39;49m\u001b[39mhttps://guardiaov4.seplag.ce.gov.br/auth\u001b[39;49m\u001b[39m'\u001b[39;49m,\n\u001b[1;32m      <a href='vscode-notebook-cell://wsl%2Bubuntu-20.04/mnt/c/Users/rodri/workspace/lap/Selenium-LAP/notebook_test.ipynb#W2sdnNjb2RlLXJlbW90ZQ%3D%3D?line=5'>6</a>\u001b[0m     \u001b[39m'\u001b[39;49m\u001b[39mcredenciais.txt\u001b[39;49m\u001b[39m'\u001b[39;49m\n\u001b[0;32m----> <a href='vscode-notebook-cell://wsl%2Bubuntu-20.04/mnt/c/Users/rodri/workspace/lap/Selenium-LAP/notebook_test.ipynb#W2sdnNjb2RlLXJlbW90ZQ%3D%3D?line=6'>7</a>\u001b[0m )\u001b[39m.\u001b[39;49mrun()\n",
      "File \u001b[0;32m/mnt/c/Users/rodri/workspace/lap/Selenium-LAP/scripts/inicializar.py:16\u001b[0m, in \u001b[0;36mInicializar.run\u001b[0;34m(self)\u001b[0m\n\u001b[1;32m     14\u001b[0m \u001b[39mself\u001b[39m\u001b[39m.\u001b[39m_login()\n\u001b[1;32m     15\u001b[0m \u001b[39mself\u001b[39m\u001b[39m.\u001b[39m_guardiao()\n\u001b[0;32m---> 16\u001b[0m \u001b[39mself\u001b[39;49m\u001b[39m.\u001b[39;49m_spg()\n\u001b[1;32m     17\u001b[0m \u001b[39mreturn\u001b[39;00m PageFatura(\u001b[39mself\u001b[39m\u001b[39m.\u001b[39mwebdriver)\n",
      "File \u001b[0;32m/mnt/c/Users/rodri/workspace/lap/Selenium-LAP/scripts/inicializar.py:30\u001b[0m, in \u001b[0;36mInicializar._spg\u001b[0;34m(self)\u001b[0m\n\u001b[1;32m     28\u001b[0m \u001b[39mdef\u001b[39;00m \u001b[39m_spg\u001b[39m(\u001b[39mself\u001b[39m):\n\u001b[1;32m     29\u001b[0m     \u001b[39mself\u001b[39m\u001b[39m.\u001b[39mpagina \u001b[39m=\u001b[39m PageSPG(\u001b[39mself\u001b[39m\u001b[39m.\u001b[39mwebdriver)\n\u001b[0;32m---> 30\u001b[0m     \u001b[39mself\u001b[39;49m\u001b[39m.\u001b[39;49mpagina\u001b[39m.\u001b[39;49mmenu_superior\u001b[39m.\u001b[39;49mclicar_sister()\n\u001b[1;32m     31\u001b[0m     \u001b[39mself\u001b[39m\u001b[39m.\u001b[39mpagina\u001b[39m.\u001b[39mavisos\u001b[39m.\u001b[39mfechar_avisos()\n\u001b[1;32m     32\u001b[0m     \u001b[39mself\u001b[39m\u001b[39m.\u001b[39mpagina\u001b[39m.\u001b[39mmenu_lateral\u001b[39m.\u001b[39mclicar_fatura()\n",
      "File \u001b[0;32m/mnt/c/Users/rodri/workspace/lap/Selenium-LAP/pages/page_elements/spg.py:20\u001b[0m, in \u001b[0;36mMenuSuperior.clicar_sister\u001b[0;34m(self)\u001b[0m\n\u001b[1;32m     18\u001b[0m \u001b[39mfinally\u001b[39;00m:\n\u001b[1;32m     19\u001b[0m     sleep(\u001b[39m1\u001b[39m)\n\u001b[0;32m---> 20\u001b[0m     \u001b[39mself\u001b[39;49m\u001b[39m.\u001b[39;49m_clicar(\u001b[39mself\u001b[39;49m\u001b[39m.\u001b[39;49msister_button)\n",
      "File \u001b[0;32m/mnt/c/Users/rodri/workspace/lap/Selenium-LAP/page_objects/page_objects.py:12\u001b[0m, in \u001b[0;36mSeleniumObject._clicar\u001b[0;34m(self, locator)\u001b[0m\n\u001b[1;32m     11\u001b[0m \u001b[39mdef\u001b[39;00m \u001b[39m_clicar\u001b[39m(\u001b[39mself\u001b[39m, locator):\n\u001b[0;32m---> 12\u001b[0m     \u001b[39mself\u001b[39;49m\u001b[39m.\u001b[39;49mwebdriver\u001b[39m.\u001b[39;49mfind_element(\u001b[39m*\u001b[39;49mlocator)\u001b[39m.\u001b[39mclick()\n",
      "File \u001b[0;32m/mnt/c/Users/rodri/workspace/lap/Selenium-LAP/venv/lib/python3.11/site-packages/selenium/webdriver/remote/webdriver.py:741\u001b[0m, in \u001b[0;36mWebDriver.find_element\u001b[0;34m(self, by, value)\u001b[0m\n\u001b[1;32m    738\u001b[0m     by \u001b[39m=\u001b[39m By\u001b[39m.\u001b[39mCSS_SELECTOR\n\u001b[1;32m    739\u001b[0m     value \u001b[39m=\u001b[39m \u001b[39mf\u001b[39m\u001b[39m'\u001b[39m\u001b[39m[name=\u001b[39m\u001b[39m\"\u001b[39m\u001b[39m{\u001b[39;00mvalue\u001b[39m}\u001b[39;00m\u001b[39m\"\u001b[39m\u001b[39m]\u001b[39m\u001b[39m'\u001b[39m\n\u001b[0;32m--> 741\u001b[0m \u001b[39mreturn\u001b[39;00m \u001b[39mself\u001b[39;49m\u001b[39m.\u001b[39;49mexecute(Command\u001b[39m.\u001b[39;49mFIND_ELEMENT, {\u001b[39m\"\u001b[39;49m\u001b[39musing\u001b[39;49m\u001b[39m\"\u001b[39;49m: by, \u001b[39m\"\u001b[39;49m\u001b[39mvalue\u001b[39;49m\u001b[39m\"\u001b[39;49m: value})[\u001b[39m\"\u001b[39m\u001b[39mvalue\u001b[39m\u001b[39m\"\u001b[39m]\n",
      "File \u001b[0;32m/mnt/c/Users/rodri/workspace/lap/Selenium-LAP/venv/lib/python3.11/site-packages/selenium/webdriver/remote/webdriver.py:347\u001b[0m, in \u001b[0;36mWebDriver.execute\u001b[0;34m(self, driver_command, params)\u001b[0m\n\u001b[1;32m    345\u001b[0m response \u001b[39m=\u001b[39m \u001b[39mself\u001b[39m\u001b[39m.\u001b[39mcommand_executor\u001b[39m.\u001b[39mexecute(driver_command, params)\n\u001b[1;32m    346\u001b[0m \u001b[39mif\u001b[39;00m response:\n\u001b[0;32m--> 347\u001b[0m     \u001b[39mself\u001b[39;49m\u001b[39m.\u001b[39;49merror_handler\u001b[39m.\u001b[39;49mcheck_response(response)\n\u001b[1;32m    348\u001b[0m     response[\u001b[39m\"\u001b[39m\u001b[39mvalue\u001b[39m\u001b[39m\"\u001b[39m] \u001b[39m=\u001b[39m \u001b[39mself\u001b[39m\u001b[39m.\u001b[39m_unwrap_value(response\u001b[39m.\u001b[39mget(\u001b[39m\"\u001b[39m\u001b[39mvalue\u001b[39m\u001b[39m\"\u001b[39m, \u001b[39mNone\u001b[39;00m))\n\u001b[1;32m    349\u001b[0m     \u001b[39mreturn\u001b[39;00m response\n",
      "File \u001b[0;32m/mnt/c/Users/rodri/workspace/lap/Selenium-LAP/venv/lib/python3.11/site-packages/selenium/webdriver/remote/errorhandler.py:229\u001b[0m, in \u001b[0;36mErrorHandler.check_response\u001b[0;34m(self, response)\u001b[0m\n\u001b[1;32m    227\u001b[0m         alert_text \u001b[39m=\u001b[39m value[\u001b[39m\"\u001b[39m\u001b[39malert\u001b[39m\u001b[39m\"\u001b[39m]\u001b[39m.\u001b[39mget(\u001b[39m\"\u001b[39m\u001b[39mtext\u001b[39m\u001b[39m\"\u001b[39m)\n\u001b[1;32m    228\u001b[0m     \u001b[39mraise\u001b[39;00m exception_class(message, screen, stacktrace, alert_text)  \u001b[39m# type: ignore[call-arg]  # mypy is not smart enough here\u001b[39;00m\n\u001b[0;32m--> 229\u001b[0m \u001b[39mraise\u001b[39;00m exception_class(message, screen, stacktrace)\n",
      "\u001b[0;31mNoSuchElementException\u001b[0m: Message: Unable to locate element: li.menu-topo:nth-child(5) > a:nth-child(1); For documentation on this error, please visit: https://www.selenium.dev/documentation/webdriver/troubleshooting/errors#no-such-element-exception\nStacktrace:\nRemoteError@chrome://remote/content/shared/RemoteError.sys.mjs:8:8\nWebDriverError@chrome://remote/content/shared/webdriver/Errors.sys.mjs:189:5\nNoSuchElementError@chrome://remote/content/shared/webdriver/Errors.sys.mjs:507:5\ndom.find/</<@chrome://remote/content/shared/DOM.sys.mjs:132:16\n"
     ]
    }
   ],
   "source": [
    "browser = Firefox()\n",
    "\n",
    "pagina = Inicializar(\n",
    "    browser,\n",
    "    'https://guardiaov4.seplag.ce.gov.br/auth',\n",
    "    'credenciais.txt'\n",
    ").run()"
   ]
  },
  {
   "cell_type": "code",
   "execution_count": 14,
   "id": "afa535f2",
   "metadata": {},
   "outputs": [
    {
     "name": "stdout",
     "output_type": "stream",
     "text": [
      "Funcionário sem cpf\n"
     ]
    }
   ],
   "source": [
    "p = PreencherFatura(\n",
    "    browser, \n",
    "    'data/SPS - CTR050 - 2019.xlsx', \n",
    "    intervalo_funcionarios=(10, 140), \n",
    "    nome_planilha='Plan SPG' \n",
    ")\n",
    "# p = PreencherFatura(\n",
    "#     browser, \n",
    "#     'data/SSPDS 012023_CTR009_2021.xlsx', \n",
    "#     intervalo_funcionarios=(14, 105), \n",
    "#     nome_planilha='SPG (2)' \n",
    "# )"
   ]
  },
  {
   "cell_type": "code",
   "execution_count": 24,
   "id": "a3c42ad3",
   "metadata": {},
   "outputs": [
    {
     "name": "stdout",
     "output_type": "stream",
     "text": [
      "0 PALOMA KRISNAN DE SOUSA LIMA 049.481.463-23\n",
      "Total compatível!\n",
      "1 Paula Cristina Mendes Silva Vieira 015.210.183-75\n",
      "Total compatível!\n",
      "2 PAULO CESAR GUEDES SUCUPIRA 230.795.253-53\n",
      "Total compatível!\n",
      "3 PEDRO HENRIQUE LIMA FONTENELE 037.832.773-96\n",
      "Total compatível!\n",
      "4 PEDRO IVAN GOMES MENDONÇA 033.572.423-03\n",
      "Total compatível!\n",
      "5 PRISCILA MARIA PINHEIRO DE FIGUEIREDO 037.974.623-95\n",
      "Total compatível!\n",
      "6 PRISCILLA DIAS MARREIRAS 805.056.193-34\n",
      "Total compatível!\n",
      "7 RAFAEL PONTES VIEIRA 034.130.853-60\n",
      "Total compatível!\n",
      "8 Rafael Siqueira Bonfim 035.563.323-02\n",
      "Total compatível!\n",
      "9 RAFAELLE OLIVEIRA CAVALCANTE 004.884.133-11\n",
      "Total compatível!\n",
      "10 RAIMUNDO FLORENCIO DA SILVA FILHO 768.316.803-30\n",
      "Total compatível!\n",
      "11 RAYSSA STELLA NUNES ARRUDA 057.536.413-00\n",
      "Total compatível!\n",
      "12 REGIA GLAUCIA GUERRA COSTA 294.236.433-53\n",
      "Total compatível!\n",
      "13 REGINA MARA BEZERRA COSTA 025.735.973-77\n",
      "Total compatível!\n",
      "14 RENATA KELLY SOARES MARTINS 036.070.833-12\n",
      "Total compatível!\n",
      "15 RENATA NAIARA DE MATOS LIMA 042.916.363-00\n",
      "Total compatível!\n",
      "16 RICARDO AUGUSTO LIMA CARVALHO 052.784.513-27\n",
      "Total compatível!\n",
      "17 RICARDO PINHEIRO MAIA JUNIOR 003.223.543-74\n",
      "Total compatível!\n",
      "18 ROSE MARY SANTOS VASCONCELOS 323.755.903-25\n",
      "Total compatível!\n",
      "19 SABRINA ELLEN ROCHA SILVA 042.177.583-16\n",
      "Total compatível!\n",
      "20 SAMUEL DE SOUSA COSTA 000.423.773-07\n",
      "Total compatível!\n",
      "21 SAMUEL DO NASCIMENTO SOUSA 049.731.743-51\n",
      "Total compatível!\n",
      "22 SILVELENA GOMES DA SILVA 057.563.413-82\n",
      "Total compatível!\n",
      "23 TATIANA ALEXANDRE TAVORA 918.886.383-20\n",
      "Total compatível!\n",
      "24 THAYNAN FREITAS ALMEIDA 016.362.623-50\n",
      "Total compatível!\n",
      "25 THERESA GABRIELLE MELO DE CARVALHO 013.317.023-30\n",
      "Total compatível!\n",
      "26 ULISSES MELO VIEIRA 881.502.243-00\n",
      "Total compatível!\n",
      "27 VALERIA MARIA SOARES DA SILVA 478.869.513-87\n",
      "Total compatível!\n",
      "28 VANESSA XAVIER BEZERRA 068.072.683-78\n",
      "Total compatível!\n",
      "29 WILLANS RAMALHO BRAGA 295.489.208-08\n",
      "Funcionário não está na planilha\n"
     ]
    }
   ],
   "source": [
    "from time import sleep\n",
    "\n",
    "inicio = 0\n",
    "\n",
    "while True:\n",
    "    try:\n",
    "        p.run(inicio)\n",
    "    except Exception as e:\n",
    "        print(e)\n",
    "        print('Tentando novamente do funcionário: ', inicio)\n",
    "        sleep(5)\n",
    "        continue\n",
    "    break\n",
    "\n",
    "# p.run(96)"
   ]
  }
 ],
 "metadata": {
  "kernelspec": {
   "display_name": "Python 3.10.4 ('.venv': poetry)",
   "language": "python",
   "name": "python3"
  },
  "language_info": {
   "codemirror_mode": {
    "name": "ipython",
    "version": 3
   },
   "file_extension": ".py",
   "mimetype": "text/x-python",
   "name": "python",
   "nbconvert_exporter": "python",
   "pygments_lexer": "ipython3",
   "version": "3.10.8"
  },
  "vscode": {
   "interpreter": {
    "hash": "04e7d43495c5f96777466b86b5f9e5e2f64b2cf74eafb766aafd5ec375536ff0"
   }
  }
 },
 "nbformat": 4,
 "nbformat_minor": 5
}
