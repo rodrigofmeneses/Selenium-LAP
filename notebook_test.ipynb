{
 "cells": [
  {
   "cell_type": "code",
   "execution_count": null,
   "id": "468cddd0",
   "metadata": {},
   "outputs": [],
   "source": [
    "from selenium.webdriver import Firefox\n",
    "from selenium.webdriver.common.by import By\n",
    "import sys, importlib\n",
    "import xlwings as xw\n",
    "import pandas as pd"
   ]
  },
  {
   "cell_type": "code",
   "execution_count": null,
   "id": "3959d436",
   "metadata": {},
   "outputs": [],
   "source": [
    "# importlib.reload(sys.modules['pages.elements'])\n",
    "# importlib.reload(sys.modules['pages.pages'])\n",
    "importlib.reload(sys.modules['scripts.preencher'])\n",
    "from scripts.inicializar import Inicializar\n",
    "from scripts.preencher import Preencher\n",
    "# from pages.pages import PageFatura\n",
    "# from pages.elements import *"
   ]
  },
  {
   "cell_type": "code",
   "execution_count": null,
   "id": "a55dec0b",
   "metadata": {},
   "outputs": [],
   "source": [
    "browser = Firefox()\n",
    "\n",
    "pagina = Inicializar(\n",
    "    browser,\n",
    "    'https://guardiaov4.seplag.ce.gov.br/auth',\n",
    "    'credenciais.txt'\n",
    ").run()"
   ]
  },
  {
   "cell_type": "code",
   "execution_count": null,
   "id": "afa535f2",
   "metadata": {},
   "outputs": [],
   "source": [
    "# pagina = PageFatura(browser)\n",
    "p = Preencher(browser, 'data/SPS-10-2021.xls', intervalo=(11, 23))"
   ]
  },
  {
   "cell_type": "code",
   "execution_count": null,
   "id": "f2a3c008",
   "metadata": {},
   "outputs": [],
   "source": [
    "# p.dados.iloc[0]\n",
    "p.run()"
   ]
  },
  {
   "cell_type": "code",
   "execution_count": null,
   "id": "12990fb3",
   "metadata": {},
   "outputs": [],
   "source": [
    "campos = ['CPF', 'Nome', 'Dias Trabalhados', 'Salario Base', \n",
    "            'Salario Total', 'Adicional', 'Adicional Nortuno', 'Reserva', \n",
    "            'Encargos', 'Insalibridade', 'Periculosidade', 'Outros', \n",
    "            'Vale Transporte', 'Vale Refeicao', 'Taxa', 'Cesta', 'Farda', \n",
    "            'Municao', 'Seguro Vida', 'Supervisao', 'IJD', 'IJN', 'Tributos', \n",
    "            'Insumos', 'Equipamento', 'Plano Saude', 'Qtd Hora Extra', \n",
    "            'Valor Hora Extra', 'DSR', 'Hora Encargos',  'Hora Taxa', 'Hora Tributos', \n",
    "            'Qtd Diarias',  'Passagem',  'Viagem', 'Viagem Taxa',  'Viagem Tributos'\n",
    "        ]"
   ]
  },
  {
   "cell_type": "code",
   "execution_count": null,
   "id": "f240fb13",
   "metadata": {},
   "outputs": [],
   "source": [
    "pagina.find_element((\n",
    "    By.CSS_SELECTOR,\n",
    "    'tbody > tr:nth-child(1) td:nth-child(6) input'\n",
    "))"
   ]
  },
  {
   "cell_type": "code",
   "execution_count": null,
   "id": "2865be6c",
   "metadata": {},
   "outputs": [],
   "source": [
    "pagina.terceirizados.funcionarios[0]._loc_dias_trabalhados"
   ]
  },
  {
   "cell_type": "code",
   "execution_count": null,
   "id": "771b75a1",
   "metadata": {},
   "outputs": [],
   "source": [
    "float(pagina.find_element(\n",
    "    pagina.terceirizados.funcionarios[0]._loc_dias_trabalhados\n",
    "    ).get_attribute('value').replace(',', '.')) "
   ]
  },
  {
   "cell_type": "code",
   "execution_count": null,
   "id": "10d5ddac",
   "metadata": {},
   "outputs": [],
   "source": [
    "pagina.terceirizados.funcionarios[0]._loc_dias_trabalhados"
   ]
  },
  {
   "cell_type": "code",
   "execution_count": null,
   "id": "e40e6aa4",
   "metadata": {},
   "outputs": [],
   "source": []
  }
 ],
 "metadata": {
  "kernelspec": {
   "display_name": "Python 3",
   "language": "python",
   "name": "python3"
  },
  "language_info": {
   "codemirror_mode": {
    "name": "ipython",
    "version": 3
   },
   "file_extension": ".py",
   "mimetype": "text/x-python",
   "name": "python",
   "nbconvert_exporter": "python",
   "pygments_lexer": "ipython3",
   "version": "3.10.0"
  }
 },
 "nbformat": 4,
 "nbformat_minor": 5
}
