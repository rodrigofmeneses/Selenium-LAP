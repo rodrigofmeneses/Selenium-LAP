{
 "cells": [
  {
   "cell_type": "code",
   "execution_count": 1,
   "id": "468cddd0",
   "metadata": {},
   "outputs": [],
   "source": [
    "from selenium.webdriver import Firefox\n",
    "from selenium.webdriver.common.by import By\n",
    "import sys, importlib"
   ]
  },
  {
   "cell_type": "code",
   "execution_count": 23,
   "id": "3959d436",
   "metadata": {},
   "outputs": [],
   "source": [
    "importlib.reload(sys.modules['pages.page_elements.fatura'])\n",
    "# importlib.reload(sys.modules['scripts.preencher'])\n",
    "\n",
    "from scripts.inicializar import Inicializar\n",
    "from scripts.preencher_fatura import PreencherFatura\n",
    "from pages.pages import PageFatura\n",
    "# from pages.elements import *\n",
    "from time import sleep\n"
   ]
  },
  {
   "cell_type": "code",
   "execution_count": 3,
   "id": "a55dec0b",
   "metadata": {},
   "outputs": [
    {
     "name": "stderr",
     "output_type": "stream",
     "text": [
      "\n",
      "KeyboardInterrupt\n",
      "\n"
     ]
    }
   ],
   "source": [
    "browser = Firefox()\n",
    "\n",
    "pagina = Inicializar(\n",
    "    browser,\n",
    "    'https://guardiaov4.seplag.ce.gov.br/auth',\n",
    "    'credenciais.txt'\n",
    ").run()"
   ]
  },
  {
   "cell_type": "code",
   "execution_count": 34,
   "id": "7acb9949",
   "metadata": {},
   "outputs": [],
   "source": [
    "dados = {\n",
    "    'Valor Adicional': 0.,\n",
    "    'Valor Adicional Noturno': 15.,\n",
    "    'Valor Reserva Técnica': 100.,\n",
    "    'Valor Encargos': 1473.77,\n",
    "    'Valor Insalubridade': 0.,\n",
    "    'Valor Periculosidade': 0.,\n",
    "    'Valor Outros': 0.,\n",
    "    'Valor Vale Transporte': 150.,\n",
    "    'Valor Vale Refeição': 0.,\n",
    "}"
   ]
  },
  {
   "cell_type": "code",
   "execution_count": 24,
   "id": "29f0f9f5",
   "metadata": {},
   "outputs": [],
   "source": [
    "p = PageFatura(browser)"
   ]
  },
  {
   "cell_type": "code",
   "execution_count": 25,
   "id": "e3c10085",
   "metadata": {},
   "outputs": [],
   "source": [
    "p.terceirizados.carregar_funcionarios()\n",
    "f = p.terceirizados.funcionarios"
   ]
  },
  {
   "cell_type": "code",
   "execution_count": 26,
   "id": "5ddf08c6",
   "metadata": {},
   "outputs": [],
   "source": [
    "a = f[0]"
   ]
  },
  {
   "cell_type": "code",
   "execution_count": 28,
   "metadata": {},
   "outputs": [],
   "source": [
    "a.ir_para_demais_informacoes()"
   ]
  },
  {
   "cell_type": "code",
   "execution_count": null,
   "id": "c3c82efd",
   "metadata": {},
   "outputs": [],
   "source": [
    "a.find_element(a.demais_informacoes._loc_tabela_montanteA).find_elements(By.TAG_NAME, 'tr')"
   ]
  },
  {
   "cell_type": "code",
   "execution_count": 35,
   "id": "6a30be99",
   "metadata": {},
   "outputs": [],
   "source": [
    "a.demais_informacoes.preencher_montante_A(dados)\n",
    "a.demais_informacoes.ir_para_montanteB()\n",
    "a.demais_informacoes.preencher_montante_B(dados)"
   ]
  },
  {
   "cell_type": "code",
   "execution_count": null,
   "id": "2707223c",
   "metadata": {},
   "outputs": [],
   "source": [
    "tabela = a.find_element(a.demais_informacoes._loc_tabela_montanteA)"
   ]
  },
  {
   "cell_type": "code",
   "execution_count": null,
   "id": "9b09cb3e",
   "metadata": {},
   "outputs": [],
   "source": [
    "for row in tabela.find_elements(By.TAG_NAME, 'tr'):\n",
    "    descricao, valor = row.find_elements(By.TAG_NAME, 'td')\n",
    "    descricao = descricao.text\n",
    "    _loc_input = valor.find_element(By.TAG_NAME, 'input')\n",
    "    valor = valor.find_element(By.TAG_NAME, 'input').get_attribute('value')\n",
    "    print(descricao, valor, _loc_input)\n",
    "    # print(row.find_element(By.TAG_NAME, 'input').get_attribute('value'))"
   ]
  },
  {
   "cell_type": "code",
   "execution_count": null,
   "id": "afa535f2",
   "metadata": {},
   "outputs": [],
   "source": [
    "# pagina = PageFatura(browser)\n",
    "p = Preencher(\n",
    "    browser, \n",
    "    'data/SSPDS 024 (06-2022).xlsx', \n",
    "    intervalo_funcionarios=(13, 44), \n",
    "    nome_planilha='SPG' \n",
    ")"
   ]
  },
  {
   "cell_type": "code",
   "execution_count": null,
   "id": "91d37bed",
   "metadata": {},
   "outputs": [],
   "source": [
    "dados = []\n",
    "\n",
    "loc_box = '.table > tbody:nth-child(2) > tr:nth-child({}) > td:nth-child(7) > entrada-monetario:nth-child(1) > div:nth-child(1) > input:nth-child(1)'\n",
    "to_click = '.table > tbody:nth-child(2) > tr:nth-child({}) > td:nth-child(6) > entrada-monetario:nth-child(1) > div:nth-child(1) > input:nth-child(1)'\t\t\t\t\t\t\t\t\t\t\t\t\t\n",
    "name = '.table > tbody:nth-child(2) > tr:nth-child({}) > td:nth-child(2) > div:nth-child(1) > span:nth-child(1)'\n",
    "\n",
    "inicio = 21\n",
    "for i in range(inicio, 101):\n",
    "    # nome = browser.find_element(By.CSS_SELECTOR, '.table > tbody:nth-child(2) > tr:nth-child() > td:nth-child(2)').text\n",
    "    print(f'{i}: {browser.find_element(By.CSS_SELECTOR, name.format(i)).text}: {dados[i-1]}')\n",
    "    box = browser.find_element(By.CSS_SELECTOR, loc_box.format(i))\n",
    "    box.clear()\n",
    "    box.send_keys(dados[i-1])\n",
    "    browser.find_element(By.CSS_SELECTOR, to_click.format(i)).click()\n",
    "    sleep(7)"
   ]
  }
 ],
 "metadata": {
  "interpreter": {
   "hash": "ed7070ae62f46da50adae80a50ee05285a26a0e8c9a74f4e555a857a3bb8431f"
  },
  "kernelspec": {
   "display_name": "Python 3.10.5 ('.venv': poetry)",
   "language": "python",
   "name": "python3"
  },
  "language_info": {
   "codemirror_mode": {
    "name": "ipython",
    "version": 3
   },
   "file_extension": ".py",
   "mimetype": "text/x-python",
   "name": "python",
   "nbconvert_exporter": "python",
   "pygments_lexer": "ipython3",
   "version": "3.10.5"
  }
 },
 "nbformat": 4,
 "nbformat_minor": 5
}
