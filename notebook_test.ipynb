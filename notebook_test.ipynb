{
 "cells": [
  {
   "cell_type": "code",
   "execution_count": null,
   "id": "468cddd0",
   "metadata": {},
   "outputs": [],
   "source": [
    "from selenium.webdriver import Firefox\n",
    "import sys, importlib"
   ]
  },
  {
   "cell_type": "code",
   "execution_count": null,
   "id": "3959d436",
   "metadata": {},
   "outputs": [],
   "source": [
    "# importlib.reload(sys.modules['pages.page_elements.repactuacao'])\n",
    "# importlib.reload(sys.modules['scripts.preencher_repactuacao'])\n",
    "\n",
    "from scripts.inicializar import Inicializar\n",
    "from scripts.preencher_repactuacao import PreencherRepactuacao\n"
   ]
  },
  {
   "cell_type": "code",
   "execution_count": null,
   "id": "a55dec0b",
   "metadata": {},
   "outputs": [],
   "source": [
    "browser = Firefox(executable_path=\"C:\\geckodriver\\geckodriver.exe\")\n",
    "\n",
    "pagina = Inicializar(\n",
    "    browser,\n",
    "    'https://guardiaov4.seplag.ce.gov.br/auth',\n",
    "    'credenciais.txt'\n",
    ").run()"
   ]
  },
  {
   "cell_type": "code",
   "execution_count": null,
   "id": "afa535f2",
   "metadata": {},
   "outputs": [],
   "source": [
    "p = PreencherRepactuacao(\n",
    "    browser, \n",
    "    'data/SSPDS 009 (01-2022).xlsx', \n",
    "    intervalo_funcionarios=(15, 20), \n",
    "    nome_planilha='SPG' \n",
    ")"
   ]
  },
  {
   "cell_type": "code",
   "execution_count": null,
   "id": "a3c42ad3",
   "metadata": {},
   "outputs": [],
   "source": [
    "p.run()"
   ]
  }
 ],
 "metadata": {
  "kernelspec": {
   "display_name": "Python 3.10.4 ('.venv': poetry)",
   "language": "python",
   "name": "python3"
  },
  "language_info": {
   "codemirror_mode": {
    "name": "ipython",
    "version": 3
   },
   "file_extension": ".py",
   "mimetype": "text/x-python",
   "name": "python",
   "nbconvert_exporter": "python",
   "pygments_lexer": "ipython3",
   "version": "3.10.4"
  },
  "vscode": {
   "interpreter": {
    "hash": "04e7d43495c5f96777466b86b5f9e5e2f64b2cf74eafb766aafd5ec375536ff0"
   }
  }
 },
 "nbformat": 4,
 "nbformat_minor": 5
}
