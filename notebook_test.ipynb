{
 "cells": [
  {
   "cell_type": "code",
   "execution_count": 1,
   "id": "468cddd0",
   "metadata": {},
   "outputs": [],
   "source": [
    "from selenium.webdriver import Firefox\n",
    "from selenium.webdriver.common.by import By\n",
    "import sys, importlib"
   ]
  },
  {
   "cell_type": "code",
   "execution_count": 2,
   "id": "3959d436",
   "metadata": {},
   "outputs": [],
   "source": [
    "# importlib.reload(sys.modules['pages.elements'])\n",
    "# importlib.reload(sys.modules['pages.pages'])\n",
    "from pages.pages import *\n",
    "from pages.elements import *"
   ]
  },
  {
   "cell_type": "code",
   "execution_count": 6,
   "id": "3cc9614d",
   "metadata": {},
   "outputs": [],
   "source": [
    "from selenium.webdriver.support.ui import WebDriverWait"
   ]
  },
  {
   "cell_type": "code",
   "execution_count": 3,
   "id": "a55dec0b",
   "metadata": {},
   "outputs": [],
   "source": [
    "with open('credenciais.txt') as f:\n",
    "    login = f.readline()\n",
    "    senha = f.readline()\n",
    "\n",
    "browser = Firefox()\n",
    "\n",
    "pagina = PageLogin(\n",
    "    browser,\n",
    "    'https://guardiaov4.seplag.ce.gov.br/auth'\n",
    ")\n",
    "pagina.open()\n",
    "\n",
    "pagina.login.logar(login, senha)\n",
    "# sleep(4)\n",
    "\n",
    "pagina = PageGuardiao(browser)\n",
    "pagina.planejamento.acessarSpg()\n",
    "# sleep(5)\n",
    "\n",
    "pagina = PageSPG(browser)\n",
    "pagina.menu_superior.clicar_sister()\n",
    "sleep(2)\n",
    "\n",
    "pagina.avisos.fechar_avisos()\n",
    "sleep(2)\n",
    "\n",
    "pagina.menu_lateral.clicar_fatura()\n",
    "pagina.menu_lateral.clicar_controle_de_fatura()\n",
    "\n",
    "pagina = PageFatura(browser)"
   ]
  },
  {
   "cell_type": "code",
   "execution_count": null,
   "id": "871901cc",
   "metadata": {},
   "outputs": [],
   "source": [
    "pagina = PageFatura(browser)\n",
    "pagina.terceirizados.carregar_funcionarios()\n",
    "f = pagina.terceirizados.funcionarios[0]"
   ]
  },
  {
   "cell_type": "code",
   "execution_count": null,
   "id": "55b97fa1",
   "metadata": {},
   "outputs": [],
   "source": [
    "num_popups = len(pagina.find_elements((By.CSS_SELECTOR, 'button.close')))\n",
    "for _ in range(num_popups):\n",
    "    for e in pagina.find_elements((By.CSS_SELECTOR, 'button.close')):\n",
    "        try: \n",
    "            e.click()\n",
    "        except:\n",
    "            pass\n",
    "    sleep(0.1)\n"
   ]
  }
 ],
 "metadata": {
  "kernelspec": {
   "display_name": "Python 3",
   "language": "python",
   "name": "python3"
  },
  "language_info": {
   "codemirror_mode": {
    "name": "ipython",
    "version": 3
   },
   "file_extension": ".py",
   "mimetype": "text/x-python",
   "name": "python",
   "nbconvert_exporter": "python",
   "pygments_lexer": "ipython3",
   "version": "3.8.10"
  }
 },
 "nbformat": 4,
 "nbformat_minor": 5
}
