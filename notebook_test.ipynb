{
 "cells": [
  {
   "cell_type": "code",
   "execution_count": 1,
   "id": "468cddd0",
   "metadata": {},
   "outputs": [],
   "source": [
    "from selenium.webdriver import Firefox\n",
    "from selenium.webdriver.common.by import By\n",
    "import sys, importlib"
   ]
  },
  {
   "cell_type": "code",
   "execution_count": 2,
   "id": "8ba4c36a",
   "metadata": {},
   "outputs": [],
   "source": [
    "from pages.pages import *\n",
    "from pages.elements import *"
   ]
  },
  {
   "cell_type": "code",
   "execution_count": 4,
   "id": "3a7ad5ca",
   "metadata": {},
   "outputs": [],
   "source": [
    "with open('credenciais.txt') as f:\n",
    "    login = f.readline()\n",
    "    senha = f.readline()\n",
    "\n",
    "browser = Firefox()\n",
    "\n",
    "pagina = PageLogin(\n",
    "    browser,\n",
    "    'https://guardiaov4.seplag.ce.gov.br/auth'\n",
    ")\n",
    "\n",
    "pagina.open()\n",
    "pagina.login.logar(login, senha)\n",
    "\n",
    "pagina = PageGuardiao(browser)\n",
    "sleep(1)\n",
    "pagina.planejamento.acessarSpg()\n",
    "\n",
    "pagina = PageFatura(browser)\n"
   ]
  },
  {
   "cell_type": "code",
   "execution_count": 57,
   "id": "92c8f6c3",
   "metadata": {},
   "outputs": [
    {
     "data": {
      "text/plain": [
       "<module 'pages.elements' from 'd:\\\\reps\\\\Selenium-LAP\\\\pages\\\\elements.py'>"
      ]
     },
     "execution_count": 57,
     "metadata": {},
     "output_type": "execute_result"
    }
   ],
   "source": [
    "importlib.reload(sys.modules['pages.elements'])"
   ]
  },
  {
   "cell_type": "code",
   "execution_count": 58,
   "id": "871901cc",
   "metadata": {},
   "outputs": [],
   "source": [
    "pagina = PageFatura(browser)\n",
    "pagina.terceirizados.carregar_funcionarios()\n",
    "f = pagina.terceirizados.funcionarios[0]"
   ]
  },
  {
   "cell_type": "code",
   "execution_count": 59,
   "id": "ec92e414",
   "metadata": {},
   "outputs": [],
   "source": [
    "f.clicar_demais_informacoes()"
   ]
  },
  {
   "cell_type": "code",
   "execution_count": 60,
   "id": "28cf2080",
   "metadata": {},
   "outputs": [],
   "source": [
    "f.demais_informacoes.preencher_provisionamento_viagem(\n",
    "    [1, 2, 3, 4, 5, 6]\n",
    ")"
   ]
  },
  {
   "cell_type": "code",
   "execution_count": null,
   "id": "bb12a686",
   "metadata": {},
   "outputs": [],
   "source": [
    "f.demais_informacoes.preencher_provisionamento_viagem(\n",
    "    [0] * 6\n",
    ")"
   ]
  }
 ],
 "metadata": {
  "kernelspec": {
   "display_name": "Python 3",
   "language": "python",
   "name": "python3"
  },
  "language_info": {
   "codemirror_mode": {
    "name": "ipython",
    "version": 3
   },
   "file_extension": ".py",
   "mimetype": "text/x-python",
   "name": "python",
   "nbconvert_exporter": "python",
   "pygments_lexer": "ipython3",
   "version": "3.8.10"
  }
 },
 "nbformat": 4,
 "nbformat_minor": 5
}
