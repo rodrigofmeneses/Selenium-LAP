{
 "cells": [
  {
   "cell_type": "code",
   "execution_count": 1,
   "id": "468cddd0",
   "metadata": {},
   "outputs": [],
   "source": [
    "from selenium.webdriver import Firefox\n",
    "from selenium.webdriver.common.by import By\n",
    "import sys, importlib"
   ]
  },
  {
   "cell_type": "code",
   "execution_count": 2,
   "id": "3959d436",
   "metadata": {},
   "outputs": [],
   "source": [
    "# importlib.reload(sys.modules['pages.elements'])\n",
    "# importlib.reload(sys.modules['pages.pages'])\n",
    "from scripts.inicializar import Inicializar\n",
    "from pages.pages import *\n",
    "from pages.elements import *"
   ]
  },
  {
   "cell_type": "code",
   "execution_count": null,
   "id": "3cc9614d",
   "metadata": {},
   "outputs": [],
   "source": [
    "from selenium.webdriver.support.ui import WebDriverWait"
   ]
  },
  {
   "cell_type": "code",
   "execution_count": 3,
   "id": "a55dec0b",
   "metadata": {},
   "outputs": [],
   "source": [
    "browser = Firefox()\n",
    "\n",
    "pagina = Inicializar(\n",
    "    browser,\n",
    "    'https://guardiaov4.seplag.ce.gov.br/auth',\n",
    "    'credenciais.txt'\n",
    ").run()"
   ]
  },
  {
   "cell_type": "code",
   "execution_count": 13,
   "id": "871901cc",
   "metadata": {},
   "outputs": [],
   "source": [
    "pagina = PageFatura(pagina.webdriver)\n",
    "pagina.terceirizados.carregar_funcionarios()\n",
    "f = pagina.terceirizados.funcionarios[0]"
   ]
  },
  {
   "cell_type": "code",
   "execution_count": 14,
   "id": "b94a4aac",
   "metadata": {},
   "outputs": [],
   "source": [
    "dados = {\n",
    "    'CPF': '123',\n",
    "    'Nome': 'aaa',\n",
    "    'DT': 30.0,\n",
    "    'SB': 1234.50,\n",
    "    'ST': 4321.50,\n",
    "    'Adicional': 12.0,\n",
    "    'Adicional Nortuno': 22.2,\n",
    "    'Reserva': 11.1,\n",
    "    'Encargos': 1111.1,\n",
    "    'Insalibridade': 444.1,\n",
    "    'Periculosidade': 321.55,\n",
    "    'Outros': 111,\n",
    "    'Vale Transporte': 0.0,\n",
    "    'Vale Refeicao': 400,\n",
    "    'Taxa': 111,\n",
    "    'Cesta': 80.0,\n",
    "    'Farda': 0,\n",
    "    'Municao': 0,\n",
    "    'Seguro Vida': 0,\n",
    "    'Supervisao': 0,\n",
    "    'IJD': 0,\n",
    "    'IJN': 0,\n",
    "    'Tributos': 0,\n",
    "    'Insumos': 0,\n",
    "    'Equipamento': 0,\n",
    "    'Plano Saude': 0,\n",
    "    'Hora Extra': 0,\n",
    "    'Hora Extra': 0,\n",
    "    'DSR': 0,\n",
    "    'Extra Encargos': 0, \n",
    "    'Extra Taxa': 0, \n",
    "    'Extra': 0, \n",
    "    'Viagem Tributos': 0,\n",
    "    'Diarias': 0, \n",
    "    'Passagem': 0, \n",
    "    'Viagem': 0,\n",
    "    'Viagem Taxa': 0, \n",
    "    'Viagem Tributos': 0\n",
    "}"
   ]
  }
 ],
 "metadata": {
  "kernelspec": {
   "display_name": "Python 3",
   "language": "python",
   "name": "python3"
  },
  "language_info": {
   "codemirror_mode": {
    "name": "ipython",
    "version": 3
   },
   "file_extension": ".py",
   "mimetype": "text/x-python",
   "name": "python",
   "nbconvert_exporter": "python",
   "pygments_lexer": "ipython3",
   "version": "3.8.10"
  }
 },
 "nbformat": 4,
 "nbformat_minor": 5
}
