{
 "cells": [
  {
   "cell_type": "code",
   "execution_count": null,
   "id": "468cddd0",
   "metadata": {},
   "outputs": [],
   "source": [
    "from selenium.webdriver import Firefox\n",
    "from selenium.webdriver.common.by import By\n",
    "import sys, importlib"
   ]
  },
  {
   "cell_type": "code",
   "execution_count": null,
   "id": "3959d436",
   "metadata": {},
   "outputs": [],
   "source": [
    "# importlib.reload(sys.modules['pages.page_elements.fatura'])\n",
    "# importlib.reload(sys.modules['scripts.preencher'])\n",
    "\n",
    "from scripts.inicializar import Inicializar\n",
    "from scripts.preencher import Preencher\n",
    "# from pages.pages import PageFatura\n",
    "# from pages.elements import *\n"
   ]
  },
  {
   "cell_type": "code",
   "execution_count": null,
   "id": "a55dec0b",
   "metadata": {},
   "outputs": [],
   "source": [
    "browser = Firefox()\n",
    "\n",
    "pagina = Inicializar(\n",
    "    browser,\n",
    "    'https://guardiaov4.seplag.ce.gov.br/auth',\n",
    "    'credenciais.txt'\n",
    ").run()"
   ]
  },
  {
   "cell_type": "code",
   "execution_count": null,
   "id": "afa535f2",
   "metadata": {},
   "outputs": [],
   "source": [
    "# pagina = PageFatura(browser)\n",
    "p = Preencher(\n",
    "    browser, \n",
    "    'data/SPS-10-2021.xlsx', \n",
    "    intervalo_funcionarios=(11, 23), \n",
    "    nome_planilha='Plan SPG'\n",
    ").run()"
   ]
  }
 ],
 "metadata": {
  "kernelspec": {
   "display_name": "Python 3",
   "language": "python",
   "name": "python3"
  },
  "language_info": {
   "codemirror_mode": {
    "name": "ipython",
    "version": 3
   },
   "file_extension": ".py",
   "mimetype": "text/x-python",
   "name": "python",
   "nbconvert_exporter": "python",
   "pygments_lexer": "ipython3",
   "version": "3.9.9"
  }
 },
 "nbformat": 4,
 "nbformat_minor": 5
}
